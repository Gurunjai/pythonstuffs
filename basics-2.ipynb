{
 "cells": [
  {
   "cell_type": "markdown",
   "metadata": {},
   "source": [
    "   ## Question - 1: \n",
    "   Research on the arithmetic operators for complex numbers and write a program for the same.\n",
    "   \n",
    "   The complex numbers are used to represent certain mathematical functions which doesn't provide solutions with the real numbers.\n",
    "   Following are the arithmetical operators supported on the complex numbers.\n",
    "   \n",
    "   The floor division and modulo is not supported on the complex numbers\n",
    "   \n",
    "   Assume the following equations for the arithmetic operators operators for two complex numbers\n",
    "   \n",
    "   Let, x = a + bi and y = c + di, Following are the arithmetic equations for various operations\n",
    "   \n",
    "   x + y = (a + bi) + (c + di) = (a + c) + (b + d)i\n",
    "   \n",
    "   x - y = (a + bi) - (c + di) = (a - c) + (b - d)i\n",
    "   \n",
    "   x * y = (a + bi) * (c + di) = (a.c - b.d) + (a.d + b.c)i\n",
    "   \n",
    "   x / y = (a + bi) / (c + di) = (1 / (c ** 2) + (d ** 2)) . ((a.c + b.d) + (d.a - c.b)i)\n",
    "   "
   ]
  },
  {
   "cell_type": "code",
   "execution_count": 1,
   "metadata": {},
   "outputs": [
    {
     "name": "stdout",
     "output_type": "stream",
     "text": [
      "Enter the first value: 3-2j\n",
      "Enter the second value: 4+8j\n",
      "Arithmetic Operators over complex values:\n",
      "\n",
      "\t\t (3-2j) + (4+8j) = (7+6j)\n",
      "\n",
      "\t\t (3-2j) - (4+8j) = (-1-10j)\n",
      "\n",
      "\t\t (3-2j) * (4+8j) = (28+16j)\n",
      "\n",
      "\t\t (3-2j) / (4+8j) = (-0.05-0.4j)\n",
      "\n"
     ]
    }
   ],
   "source": [
    "x = complex(input(\"Enter the first value: \"))\n",
    "y = complex(input(\"Enter the second value: \"))\n",
    "\n",
    "print(\"Arithmetic Operators over complex values:\\n\")\n",
    "print(\"\\t\\t {0} + {1} = {2}\\n\".format(x, y, x+y))\n",
    "print(\"\\t\\t {0} - {1} = {2}\\n\".format(x, y, x-y))\n",
    "print(\"\\t\\t {0} * {1} = {2}\\n\".format(x, y, x*y))\n",
    "print(\"\\t\\t {0} / {1} = {2}\\n\".format(x, y, x/y))"
   ]
  },
  {
   "cell_type": "markdown",
   "metadata": {},
   "source": [
    "## Question - 2:\n",
    "\n",
    "_Research on range() functions and its parameters. Create a markdown cell and write in your own\n",
    "words (no copy-paste from google please) what you understand about it. Implement a small\n",
    "program of your choice on the same_\n",
    "    \n",
    "__Understanding of Range() function:__\n",
    "    Range function provides a sequence of numbers with the provided arguments. \n",
    "    The range function can be defined as follows\n",
    "            range(start = 0, stop, step = 1)\n",
    "            \n",
    "    The stop argument of the range function is mandatory and should be provided by the user. \n",
    "    The start (default of 0) and step (default of 1) are optional parameters.\n",
    "    Generates range of numbers from the provide start with each step until the end\n",
    "        \n",
    "_Example:_ range(1, 10, 2) \n",
    "    \n",
    "    provides an object of class \"range\" which can provides the sequence of 1 to 10 with a step of 2"
   ]
  },
  {
   "cell_type": "code",
   "execution_count": 2,
   "metadata": {},
   "outputs": [
    {
     "name": "stdout",
     "output_type": "stream",
     "text": [
      "6, 27, 48, 69, 90, 111, 132, 153, 174, 195, 216, "
     ]
    }
   ],
   "source": [
    "## Will use the below rObj for the other set of problems on this assignment\n",
    "rObj = range(6, 220, 21)\n",
    "for i in rObj:\n",
    "    print(\"{0}\".format(i), end = \", \")"
   ]
  },
  {
   "cell_type": "markdown",
   "metadata": {},
   "source": [
    "## Question - 3:\n",
    "\n",
    "_Consider two numbers. Perform their subtraction and if the result of subtraction is greater than\n",
    "25, print their multiplication result else print their division result._\n",
    "\n"
   ]
  },
  {
   "cell_type": "code",
   "execution_count": 3,
   "metadata": {},
   "outputs": [
    {
     "name": "stdout",
     "output_type": "stream",
     "text": [
      "Enter the first number index in (0 - 9): 8\n",
      "Enter the second number index in (0 - 9): 9\n",
      "76 * 8: 608\n"
     ]
    }
   ],
   "source": [
    "## Can use rList for subsequent problems\n",
    "## Generate random set of 10 element list\n",
    "import random as rand\n",
    "rList = list(range(rand.randint(0, 10), 80, 4))\n",
    "rList = rand.sample(rList, k = 10)\n",
    "\n",
    "endIdx = len(rList) - 1\n",
    "\n",
    "first = int(input(\"Enter the first number index in (0 - {0}): \".format(endIdx)))\n",
    "second = int(input(\"Enter the second number index in (0 - {0}): \".format(endIdx)))\n",
    "if endIdx < first or second > endIdx:\n",
    "    print(\"Invalid input\")\n",
    "else:\n",
    "    if (rList[first] - rList[second]) > 25:\n",
    "        print(\"{0} * {1}: {2}\".format(rList[first], rList[second], rList[first] * rList[second]))\n",
    "    else:\n",
    "        print(\"{0} / {1}: {2}\".format(rList[first], rList[second], rList[first] / rList[second]))"
   ]
  },
  {
   "cell_type": "markdown",
   "metadata": {},
   "source": [
    "## Question - 4:\n",
    "\n",
    "_Consider a list of 10 elements of integer values. If the number in the list is divisible by 2, print the\n",
    "result as \"square of that number minus 2\"._"
   ]
  },
  {
   "cell_type": "code",
   "execution_count": 4,
   "metadata": {},
   "outputs": [
    {
     "name": "stdout",
     "output_type": "stream",
     "text": [
      "square of number 48 minus 2 is: 2302\n",
      "square of number 68 minus 2 is: 4622\n",
      "square of number 64 minus 2 is: 4094\n",
      "square of number 28 minus 2 is: 782\n",
      "square of number 44 minus 2 is: 1934\n",
      "square of number 16 minus 2 is: 254\n",
      "square of number 24 minus 2 is: 574\n",
      "square of number 72 minus 2 is: 5182\n",
      "square of number 76 minus 2 is: 5774\n",
      "square of number 8 minus 2 is: 62\n"
     ]
    }
   ],
   "source": [
    "mask2 = (2 - 1)\n",
    "for i in rList:\n",
    "    if not i & mask2:\n",
    "        print(\"square of number {0} minus 2 is: {1}\".format(i, ((i ** 2) - 2)))"
   ]
  },
  {
   "cell_type": "markdown",
   "metadata": {},
   "source": [
    "## Question - 5:\n",
    "\n",
    "_Consider a list of 10 elements. Print all the elements in the list which are greater than 7 when that\n",
    "number is divided 2._"
   ]
  },
  {
   "cell_type": "code",
   "execution_count": 5,
   "metadata": {},
   "outputs": [
    {
     "name": "stdout",
     "output_type": "stream",
     "text": [
      "The half of the number 48 is more than 7\n",
      "The half of the number 68 is more than 7\n",
      "The half of the number 64 is more than 7\n",
      "The half of the number 28 is more than 7\n",
      "The half of the number 44 is more than 7\n",
      "The half of the number 16 is more than 7\n",
      "The half of the number 24 is more than 7\n",
      "The half of the number 72 is more than 7\n",
      "The half of the number 76 is more than 7\n"
     ]
    }
   ],
   "source": [
    "for i in rList:\n",
    "    if (i / 2) > 7:\n",
    "        print(\"The half of the number {0} is more than 7\".format(i))"
   ]
  },
  {
   "cell_type": "code",
   "execution_count": null,
   "metadata": {},
   "outputs": [],
   "source": []
  }
 ],
 "metadata": {
  "kernelspec": {
   "display_name": "Python 3",
   "language": "python",
   "name": "python3"
  },
  "language_info": {
   "codemirror_mode": {
    "name": "ipython",
    "version": 3
   },
   "file_extension": ".py",
   "mimetype": "text/x-python",
   "name": "python",
   "nbconvert_exporter": "python",
   "pygments_lexer": "ipython3",
   "version": "3.7.6"
  },
  "toc": {
   "base_numbering": 1,
   "nav_menu": {},
   "number_sections": true,
   "sideBar": true,
   "skip_h1_title": false,
   "title_cell": "Table of Contents",
   "title_sidebar": "Contents",
   "toc_cell": false,
   "toc_position": {},
   "toc_section_display": true,
   "toc_window_display": true
  },
  "varInspector": {
   "cols": {
    "lenName": 16,
    "lenType": 16,
    "lenVar": 40
   },
   "kernels_config": {
    "python": {
     "delete_cmd_postfix": "",
     "delete_cmd_prefix": "del ",
     "library": "var_list.py",
     "varRefreshCmd": "print(var_dic_list())"
    },
    "r": {
     "delete_cmd_postfix": ") ",
     "delete_cmd_prefix": "rm(",
     "library": "var_list.r",
     "varRefreshCmd": "cat(var_dic_list()) "
    }
   },
   "types_to_exclude": [
    "module",
    "function",
    "builtin_function_or_method",
    "instance",
    "_Feature"
   ],
   "window_display": false
  }
 },
 "nbformat": 4,
 "nbformat_minor": 4
}