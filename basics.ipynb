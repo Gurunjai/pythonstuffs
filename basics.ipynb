{
 "cells": [
  {
   "cell_type": "code",
   "execution_count": 17,
   "metadata": {
    "tags": []
   },
   "outputs": [
    {
     "output_type": "stream",
     "name": "stdout",
     "text": "Subtraction of two complex numbers  (3+2j)  -  (1-5j)  =  (2+7j)\n"
    }
   ],
   "source": [
    "## Program to subtract two complex numbers\n",
    "\n",
    "a = complex(input(\"Enter the first complex value (a+bj): \"))\n",
    "b = complex(input(\"Enter the second complex value (a+bj): \"))\n",
    "print(\"Subtraction of two complex numbers \", a, \" - \", b, \" = \", a-b )"
   ]
  },
  {
   "cell_type": "code",
   "execution_count": 18,
   "metadata": {
    "tags": []
   },
   "outputs": [
    {
     "output_type": "stream",
     "name": "stdout",
     "text": "fourth root of number  5  is:  625\n"
    }
   ],
   "source": [
    "## Program to fourth square root of a number \n",
    "\n",
    "a = int(input(\"Enter the value: \"))\n",
    "print(\"fourth root of number \", a, \" is: \", a ** 4)"
   ]
  },
  {
   "cell_type": "code",
   "execution_count": 19,
   "metadata": {
    "tags": []
   },
   "outputs": [
    {
     "output_type": "stream",
     "name": "stdout",
     "text": "Before swap\n\t a =  100 , b = 540\nAfter swap\n\t a =  540 , b = 100\n"
    }
   ],
   "source": [
    "## Program to swap two numbers with the help of temporary variable\n",
    "\n",
    "\n",
    "a = int(input(\"Enter the first value: \"))\n",
    "b = int(input(\"Enter the second value: \"))\n",
    "\n",
    "print(\"Before swap\\n\\t a = \", a, \", b =\", b)\n",
    "tmp = a\n",
    "a = b\n",
    "b = tmp\n",
    "print(\"After swap\\n\\t a = \", a, \", b =\", b)"
   ]
  },
  {
   "cell_type": "code",
   "execution_count": 20,
   "metadata": {
    "tags": []
   },
   "outputs": [
    {
     "output_type": "stream",
     "name": "stdout",
     "text": "Before swap\n\t a =  200 , b =  230\nAfter swap\n\t a =  230 , b =  200\n"
    }
   ],
   "source": [
    "## Program to swap two numbers without any temporary variables\n",
    "\n",
    "'''\n",
    "    Python provides direct assignments for the swap, we can take advantage of the same\n",
    "    If not we can use the below arithmetic steps\n",
    "\n",
    "        a = a + b\n",
    "        b = a - b\n",
    "        a = a - b\n",
    "'''\n",
    "\n",
    "a = int(input(\"Enter the first value: \"))\n",
    "b = int(input(\"Enter the second value: \"))\n",
    "\n",
    "print(\"Before swap\\n\\t a = \", a, \", b = \", b)\n",
    "a, b = b, a\n",
    "print(\"After swap\\n\\t a = \", a, \", b = \", b)"
   ]
  },
  {
   "cell_type": "code",
   "execution_count": 21,
   "metadata": {
    "tags": []
   },
   "outputs": [
    {
     "output_type": "stream",
     "name": "stdout",
     "text": "Provided Farenheit =  110 , converted Kelvin:  316.4833333333333\nProvided Farenheit =  110 , converted Celsius:  43.333333333333336\n"
    }
   ],
   "source": [
    "## Program to convert the provided farenheit to a Kelvin and Celsius\n",
    "\n",
    "\n",
    "faren = int(input(\"Enter the temperature in Farenheit: \"))\n",
    "\n",
    "\"\"\"\n",
    "    The value of farenheit can be converted to a Kelvin with the help of the following convention\n",
    "\n",
    "    (32°F − 32) × 5/9 + 273.15 = 273.15K\n",
    "\"\"\"\n",
    "kelvin = (faren - 32) * 5/9 + 273.15\n",
    "print(\"Provided Farenheit = \", faren, \", converted Kelvin: \", kelvin)\n",
    "\n",
    "\"\"\"\n",
    "    The value of farenheit can be converted to a celsius with the help of the following convention\n",
    "\n",
    "    (32°F − 32) × 5/9 = 0°C\n",
    "\"\"\"\n",
    "celsius = (faren - 32) * 5/9 \n",
    "print(\"Provided Farenheit = \", faren, \", converted Celsius: \", celsius)"
   ]
  },
  {
   "cell_type": "code",
   "execution_count": 22,
   "metadata": {
    "tags": []
   },
   "outputs": [
    {
     "output_type": "stream",
     "name": "stdout",
     "text": "\nBasic Data Types: \n\t a =  <class 'int'> \n\t b =  <class 'float'> \n\t c =  <class 'complex'> \n\t d =  <class 'bool'>\n\nImmutable Data Types: \n\t st =  <class 'str'> \n\t tu =  <class 'tuple'>\n\nMutable Data Types: \n\t li =  <class 'list'> \n\t se =  <class 'set'> \n\t di =  <class 'dict'>\n"
    }
   ],
   "source": [
    "## Program to provide various data types used in python\n",
    "## Captured basic, immutable and mutable data types for reference\n",
    "\n",
    "\n",
    "# Basic Data Types\n",
    "a = 10\n",
    "b = 0.2456\n",
    "c = 3+2j\n",
    "d = False\n",
    "\n",
    "# Immutable data types\n",
    "st = \"SampleStr\"\n",
    "tu = (1, 2, 3)\n",
    "\n",
    "# Mutable Data types\n",
    "li = ['a', 'b', 'c']\n",
    "se = {1, 2, 3}\n",
    "di = {\n",
    "    1 : \"abc\",\n",
    "    2 : \"xyz\",\n",
    "    3 : \"def\",\n",
    "}\n",
    "\n",
    "print(\"\\nBasic Data Types: \\n\\t\", \"a = \", type(a), \"\\n\\t b = \", type(b), \"\\n\\t c = \", type(c), \"\\n\\t d = \", type(d))\n",
    "print(\"\\nImmutable Data Types: \\n\\t\", \"st = \", type(st), \"\\n\\t tu = \", type(tu))\n",
    "print(\"\\nMutable Data Types: \\n\\t\", \"li = \", type(li), \"\\n\\t se = \", type(se), \"\\n\\t di = \", type(di))\n"
   ]
  },
  {
   "cell_type": "code",
   "execution_count": null,
   "metadata": {},
   "outputs": [],
   "source": []
  }
 ],
 "metadata": {
  "language_info": {
   "codemirror_mode": {
    "name": "ipython",
    "version": 3
   },
   "file_extension": ".py",
   "mimetype": "text/x-python",
   "name": "python",
   "nbconvert_exporter": "python",
   "pygments_lexer": "ipython3",
   "version": 3
  },
  "orig_nbformat": 2,
  "kernelspec": {
   "name": "python_defaultSpec_1594342422223",
   "display_name": "Python 3.7.5 64-bit"
  }
 },
 "nbformat": 4,
 "nbformat_minor": 2
}